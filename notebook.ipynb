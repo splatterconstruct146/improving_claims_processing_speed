{
 "cells": [
  {
   "cell_type": "markdown",
   "id": "a5b3bc0e-b993-4ee3-bd07-825a474bd0d9",
   "metadata": {
    "tags": []
   },
   "source": [
    "# Improving Claims Processing Speed\n",
    "\n",
    "This workspace is broken down into the following sections:\n",
    "1. Task 1 - Data validation and data cleaning\n",
    "2. Task 2 - Data visualization - No. of claims by location\n",
    "3. Task 3 - Data visualization - Distribution of time to close claims\n",
    "4. Task 4 - Data visualization - Relationship between time to close and location\n"
   ]
  },
  {
   "cell_type": "markdown",
   "id": "d1b1a012-1ccb-40e7-a1ad-77b60b256690",
   "metadata": {
    "tags": []
   },
   "source": [
    "## Task 1\n",
    "\n"
   ]
  },
  {
   "cell_type": "code",
   "execution_count": 1,
   "id": "d56e26df-09e7-4fb9-909f-a957aafc6f3a",
   "metadata": {
    "executionCancelledAt": null,
    "executionTime": 3298,
    "lastExecutedAt": 1686923820292,
    "lastScheduledRunId": null,
    "lastSuccessfullyExecutedCode": "# import libraries\nimport pandas as pd\nimport numpy as np\nimport matplotlib.pyplot as plt\nimport seaborn as sns"
   },
   "outputs": [],
   "source": [
    "# import libraries\n",
    "import pandas as pd\n",
    "import numpy as np\n",
    "import matplotlib.pyplot as plt\n",
    "import seaborn as sns"
   ]
  },
  {
   "cell_type": "code",
   "execution_count": 2,
   "id": "1c5c7051-bae4-477c-80e6-db0bbaeb7a4b",
   "metadata": {
    "executionCancelledAt": null,
    "executionTime": 52,
    "lastExecutedAt": 1686923820347,
    "lastScheduledRunId": null,
    "lastSuccessfullyExecutedCode": "# imports the csv file\nclaims = pd.read_csv('food_claims_2212.csv')\nclaims.head()"
   },
   "outputs": [
    {
     "data": {
      "application/com.datacamp.data-table.v1+json": {
       "table": {
        "data": [
         {
          "amount_paid": 51231.37,
          "cause": "unknown",
          "claim_amount": "R$ 74474.55",
          "claim_id": 1,
          "index": 0,
          "individuals_on_claim": 15,
          "linked_cases": false,
          "location": "RECIFE",
          "time_to_close": 317
         },
         {
          "amount_paid": 42111.3,
          "cause": "unknown",
          "claim_amount": "R$ 52137.83",
          "claim_id": 2,
          "index": 1,
          "individuals_on_claim": 12,
          "linked_cases": true,
          "location": "FORTALEZA",
          "time_to_close": 195
         },
         {
          "amount_paid": 23986.3,
          "cause": "meat",
          "claim_amount": "R$ 24447.2",
          "claim_id": 3,
          "index": 2,
          "individuals_on_claim": 10,
          "linked_cases": true,
          "location": "SAO LUIS",
          "time_to_close": 183
         },
         {
          "amount_paid": 27942.72,
          "cause": "meat",
          "claim_amount": "R$ 29006.28",
          "claim_id": 4,
          "index": 3,
          "individuals_on_claim": 11,
          "linked_cases": false,
          "location": "FORTALEZA",
          "time_to_close": 186
         },
         {
          "amount_paid": 16251.06,
          "cause": "vegetable",
          "claim_amount": "R$ 19520.6",
          "claim_id": 5,
          "index": 4,
          "individuals_on_claim": 11,
          "linked_cases": false,
          "location": "RECIFE",
          "time_to_close": 138
         }
        ],
        "schema": {
         "fields": [
          {
           "name": "index",
           "type": "integer"
          },
          {
           "name": "claim_id",
           "type": "integer"
          },
          {
           "name": "time_to_close",
           "type": "integer"
          },
          {
           "name": "claim_amount",
           "type": "string"
          },
          {
           "name": "amount_paid",
           "type": "number"
          },
          {
           "name": "location",
           "type": "string"
          },
          {
           "name": "individuals_on_claim",
           "type": "integer"
          },
          {
           "name": "linked_cases",
           "type": "string"
          },
          {
           "name": "cause",
           "type": "string"
          }
         ],
         "pandas_version": "1.4.0",
         "primaryKey": [
          "index"
         ]
        }
       },
       "total_rows": 5,
       "truncation_type": null
      },
      "text/html": [
       "<div>\n",
       "<style scoped>\n",
       "    .dataframe tbody tr th:only-of-type {\n",
       "        vertical-align: middle;\n",
       "    }\n",
       "\n",
       "    .dataframe tbody tr th {\n",
       "        vertical-align: top;\n",
       "    }\n",
       "\n",
       "    .dataframe thead th {\n",
       "        text-align: right;\n",
       "    }\n",
       "</style>\n",
       "<table border=\"1\" class=\"dataframe\">\n",
       "  <thead>\n",
       "    <tr style=\"text-align: right;\">\n",
       "      <th></th>\n",
       "      <th>claim_id</th>\n",
       "      <th>time_to_close</th>\n",
       "      <th>claim_amount</th>\n",
       "      <th>amount_paid</th>\n",
       "      <th>location</th>\n",
       "      <th>individuals_on_claim</th>\n",
       "      <th>linked_cases</th>\n",
       "      <th>cause</th>\n",
       "    </tr>\n",
       "  </thead>\n",
       "  <tbody>\n",
       "    <tr>\n",
       "      <th>0</th>\n",
       "      <td>1</td>\n",
       "      <td>317</td>\n",
       "      <td>R$ 74474.55</td>\n",
       "      <td>51231.37</td>\n",
       "      <td>RECIFE</td>\n",
       "      <td>15</td>\n",
       "      <td>False</td>\n",
       "      <td>unknown</td>\n",
       "    </tr>\n",
       "    <tr>\n",
       "      <th>1</th>\n",
       "      <td>2</td>\n",
       "      <td>195</td>\n",
       "      <td>R$ 52137.83</td>\n",
       "      <td>42111.30</td>\n",
       "      <td>FORTALEZA</td>\n",
       "      <td>12</td>\n",
       "      <td>True</td>\n",
       "      <td>unknown</td>\n",
       "    </tr>\n",
       "    <tr>\n",
       "      <th>2</th>\n",
       "      <td>3</td>\n",
       "      <td>183</td>\n",
       "      <td>R$ 24447.2</td>\n",
       "      <td>23986.30</td>\n",
       "      <td>SAO LUIS</td>\n",
       "      <td>10</td>\n",
       "      <td>True</td>\n",
       "      <td>meat</td>\n",
       "    </tr>\n",
       "    <tr>\n",
       "      <th>3</th>\n",
       "      <td>4</td>\n",
       "      <td>186</td>\n",
       "      <td>R$ 29006.28</td>\n",
       "      <td>27942.72</td>\n",
       "      <td>FORTALEZA</td>\n",
       "      <td>11</td>\n",
       "      <td>False</td>\n",
       "      <td>meat</td>\n",
       "    </tr>\n",
       "    <tr>\n",
       "      <th>4</th>\n",
       "      <td>5</td>\n",
       "      <td>138</td>\n",
       "      <td>R$ 19520.6</td>\n",
       "      <td>16251.06</td>\n",
       "      <td>RECIFE</td>\n",
       "      <td>11</td>\n",
       "      <td>False</td>\n",
       "      <td>vegetable</td>\n",
       "    </tr>\n",
       "  </tbody>\n",
       "</table>\n",
       "</div>"
      ],
      "text/plain": [
       "   claim_id  time_to_close  ... linked_cases      cause\n",
       "0         1            317  ...        False    unknown\n",
       "1         2            195  ...         True    unknown\n",
       "2         3            183  ...         True       meat\n",
       "3         4            186  ...        False       meat\n",
       "4         5            138  ...        False  vegetable\n",
       "\n",
       "[5 rows x 8 columns]"
      ]
     },
     "execution_count": 2,
     "metadata": {},
     "output_type": "execute_result"
    }
   ],
   "source": [
    "# imports the csv file\n",
    "claims = pd.read_csv('food_claims_2212.csv')\n",
    "claims.head()"
   ]
  },
  {
   "cell_type": "code",
   "execution_count": 3,
   "id": "56939a65-8a17-40fe-add9-9593c4fbf191",
   "metadata": {
    "executionCancelledAt": null,
    "executionTime": 51,
    "lastExecutedAt": 1686923820398,
    "lastScheduledRunId": null,
    "lastSuccessfullyExecutedCode": "claims.info(all)"
   },
   "outputs": [
    {
     "name": "stdout",
     "output_type": "stream",
     "text": [
      "<class 'pandas.core.frame.DataFrame'>\n",
      "RangeIndex: 2000 entries, 0 to 1999\n",
      "Data columns (total 8 columns):\n",
      " #   Column                Non-Null Count  Dtype  \n",
      "---  ------                --------------  -----  \n",
      " 0   claim_id              2000 non-null   int64  \n",
      " 1   time_to_close         2000 non-null   int64  \n",
      " 2   claim_amount          2000 non-null   object \n",
      " 3   amount_paid           1964 non-null   float64\n",
      " 4   location              2000 non-null   object \n",
      " 5   individuals_on_claim  2000 non-null   int64  \n",
      " 6   linked_cases          1974 non-null   object \n",
      " 7   cause                 2000 non-null   object \n",
      "dtypes: float64(1), int64(3), object(4)\n",
      "memory usage: 125.1+ KB\n"
     ]
    }
   ],
   "source": [
    "claims.info(all)"
   ]
  },
  {
   "cell_type": "code",
   "execution_count": 4,
   "id": "2c939087-dcb1-49dc-a673-1e94a1604c0e",
   "metadata": {
    "executionCancelledAt": null,
    "executionTime": 47,
    "lastExecutedAt": 1686923820445,
    "lastScheduledRunId": null,
    "lastSuccessfullyExecutedCode": "claims.describe()"
   },
   "outputs": [
    {
     "data": {
      "application/com.datacamp.data-table.v1+json": {
       "table": {
        "data": [
         {
          "amount_paid": 1964,
          "claim_id": 2000,
          "index": "count",
          "individuals_on_claim": 2000,
          "time_to_close": 2000
         },
         {
          "amount_paid": 21541.9751832994,
          "claim_id": 1000.5,
          "index": "mean",
          "individuals_on_claim": 8.0495,
          "time_to_close": 185.568
         },
         {
          "amount_paid": 12530.1565093075,
          "claim_id": 577.4945887192,
          "index": "std",
          "individuals_on_claim": 4.0873466884,
          "time_to_close": 49.163389788
         },
         {
          "amount_paid": 1516.72,
          "claim_id": 1,
          "index": "min",
          "individuals_on_claim": 1,
          "time_to_close": 76
         },
         {
          "amount_paid": 10995.95,
          "claim_id": 500.75,
          "index": "25%",
          "individuals_on_claim": 4,
          "time_to_close": 158
         },
         {
          "amount_paid": 20105.7,
          "claim_id": 1000.5,
          "index": "50%",
          "individuals_on_claim": 8,
          "time_to_close": 179
         },
         {
          "amount_paid": 30709.35,
          "claim_id": 1500.25,
          "index": "75%",
          "individuals_on_claim": 12,
          "time_to_close": 204
         },
         {
          "amount_paid": 52498.75,
          "claim_id": 2000,
          "index": "max",
          "individuals_on_claim": 15,
          "time_to_close": 518
         }
        ],
        "schema": {
         "fields": [
          {
           "name": "index",
           "type": "string"
          },
          {
           "name": "claim_id",
           "type": "number"
          },
          {
           "name": "time_to_close",
           "type": "number"
          },
          {
           "name": "amount_paid",
           "type": "number"
          },
          {
           "name": "individuals_on_claim",
           "type": "number"
          }
         ],
         "pandas_version": "1.4.0",
         "primaryKey": [
          "index"
         ]
        }
       },
       "total_rows": 8,
       "truncation_type": null
      },
      "text/html": [
       "<div>\n",
       "<style scoped>\n",
       "    .dataframe tbody tr th:only-of-type {\n",
       "        vertical-align: middle;\n",
       "    }\n",
       "\n",
       "    .dataframe tbody tr th {\n",
       "        vertical-align: top;\n",
       "    }\n",
       "\n",
       "    .dataframe thead th {\n",
       "        text-align: right;\n",
       "    }\n",
       "</style>\n",
       "<table border=\"1\" class=\"dataframe\">\n",
       "  <thead>\n",
       "    <tr style=\"text-align: right;\">\n",
       "      <th></th>\n",
       "      <th>claim_id</th>\n",
       "      <th>time_to_close</th>\n",
       "      <th>amount_paid</th>\n",
       "      <th>individuals_on_claim</th>\n",
       "    </tr>\n",
       "  </thead>\n",
       "  <tbody>\n",
       "    <tr>\n",
       "      <th>count</th>\n",
       "      <td>2000.000000</td>\n",
       "      <td>2000.00000</td>\n",
       "      <td>1964.000000</td>\n",
       "      <td>2000.000000</td>\n",
       "    </tr>\n",
       "    <tr>\n",
       "      <th>mean</th>\n",
       "      <td>1000.500000</td>\n",
       "      <td>185.56800</td>\n",
       "      <td>21541.975183</td>\n",
       "      <td>8.049500</td>\n",
       "    </tr>\n",
       "    <tr>\n",
       "      <th>std</th>\n",
       "      <td>577.494589</td>\n",
       "      <td>49.16339</td>\n",
       "      <td>12530.156509</td>\n",
       "      <td>4.087347</td>\n",
       "    </tr>\n",
       "    <tr>\n",
       "      <th>min</th>\n",
       "      <td>1.000000</td>\n",
       "      <td>76.00000</td>\n",
       "      <td>1516.720000</td>\n",
       "      <td>1.000000</td>\n",
       "    </tr>\n",
       "    <tr>\n",
       "      <th>25%</th>\n",
       "      <td>500.750000</td>\n",
       "      <td>158.00000</td>\n",
       "      <td>10995.950000</td>\n",
       "      <td>4.000000</td>\n",
       "    </tr>\n",
       "    <tr>\n",
       "      <th>50%</th>\n",
       "      <td>1000.500000</td>\n",
       "      <td>179.00000</td>\n",
       "      <td>20105.700000</td>\n",
       "      <td>8.000000</td>\n",
       "    </tr>\n",
       "    <tr>\n",
       "      <th>75%</th>\n",
       "      <td>1500.250000</td>\n",
       "      <td>204.00000</td>\n",
       "      <td>30709.350000</td>\n",
       "      <td>12.000000</td>\n",
       "    </tr>\n",
       "    <tr>\n",
       "      <th>max</th>\n",
       "      <td>2000.000000</td>\n",
       "      <td>518.00000</td>\n",
       "      <td>52498.750000</td>\n",
       "      <td>15.000000</td>\n",
       "    </tr>\n",
       "  </tbody>\n",
       "</table>\n",
       "</div>"
      ],
      "text/plain": [
       "          claim_id  time_to_close   amount_paid  individuals_on_claim\n",
       "count  2000.000000     2000.00000   1964.000000           2000.000000\n",
       "mean   1000.500000      185.56800  21541.975183              8.049500\n",
       "std     577.494589       49.16339  12530.156509              4.087347\n",
       "min       1.000000       76.00000   1516.720000              1.000000\n",
       "25%     500.750000      158.00000  10995.950000              4.000000\n",
       "50%    1000.500000      179.00000  20105.700000              8.000000\n",
       "75%    1500.250000      204.00000  30709.350000             12.000000\n",
       "max    2000.000000      518.00000  52498.750000             15.000000"
      ]
     },
     "execution_count": 4,
     "metadata": {},
     "output_type": "execute_result"
    }
   ],
   "source": [
    "claims.describe()"
   ]
  },
  {
   "cell_type": "code",
   "execution_count": 5,
   "id": "af3f5381-d692-4c99-ab34-1ba882593bd9",
   "metadata": {
    "executionCancelledAt": null,
    "executionTime": 48,
    "lastExecutedAt": 1686923820493,
    "lastScheduledRunId": null,
    "lastSuccessfullyExecutedCode": "# checking number unique values in each column\nfor column in claims:\n    print(column, ':', claims[column].nunique())"
   },
   "outputs": [
    {
     "name": "stdout",
     "output_type": "stream",
     "text": [
      "claim_id : 2000\n",
      "time_to_close : 256\n",
      "claim_amount : 2000\n",
      "amount_paid : 1963\n",
      "location : 4\n",
      "individuals_on_claim : 15\n",
      "linked_cases : 2\n",
      "cause : 5\n"
     ]
    }
   ],
   "source": [
    "# checking number unique values in each column\n",
    "for column in claims:\n",
    "    print(column, ':', claims[column].nunique())"
   ]
  },
  {
   "cell_type": "code",
   "execution_count": 6,
   "id": "29e7572b-350d-468f-a87f-41c8d02f1add",
   "metadata": {
    "executionCancelledAt": null,
    "executionTime": 52,
    "lastExecutedAt": 1686923820545,
    "lastScheduledRunId": null,
    "lastSuccessfullyExecutedCode": "# checking the unique values itself in some of the columns\nexclude_columns = ['claim_id', 'time_to_close', 'claim_amount', 'amount_paid', 'individuals_on_claim']\nfor column in claims:\n  if column not in exclude_columns:\n    print(column, ':', claims[column].unique())"
   },
   "outputs": [
    {
     "name": "stdout",
     "output_type": "stream",
     "text": [
      "location : ['RECIFE' 'FORTALEZA' 'SAO LUIS' 'NATAL']\n",
      "linked_cases : [False True nan]\n",
      "cause : ['unknown' 'meat' 'vegetable' ' Meat' 'VEGETABLES']\n"
     ]
    }
   ],
   "source": [
    "# checking the unique values itself in some of the columns\n",
    "exclude_columns = ['claim_id', 'time_to_close', 'claim_amount', 'amount_paid', 'individuals_on_claim']\n",
    "for column in claims:\n",
    "  if column not in exclude_columns:\n",
    "    print(column, ':', claims[column].unique())"
   ]
  },
  {
   "cell_type": "code",
   "execution_count": 7,
   "id": "7b8053ec-d6f7-4b7d-af0a-ea077ba4abe7",
   "metadata": {
    "executionCancelledAt": null,
    "executionTime": 56,
    "lastExecutedAt": 1686923820601,
    "lastScheduledRunId": null,
    "lastSuccessfullyExecutedCode": "# attempting to clean the data\n# cleaning the currency first\nclaims_clean = claims\nclaims_clean['claim_amount'] = claims['claim_amount'].str.replace('[^\\d.]','', regex=True)\nclaims_clean['claim_amount'] = claims_clean['claim_amount'].astype(float)\nclaims_clean['claim_amount'].head()"
   },
   "outputs": [
    {
     "data": {
      "text/plain": [
       "0    74474.55\n",
       "1    52137.83\n",
       "2    24447.20\n",
       "3    29006.28\n",
       "4    19520.60\n",
       "Name: claim_amount, dtype: float64"
      ]
     },
     "execution_count": 7,
     "metadata": {},
     "output_type": "execute_result"
    }
   ],
   "source": [
    "# attempting to clean the data\n",
    "# cleaning the currency first\n",
    "claims_clean = claims\n",
    "claims_clean['claim_amount'] = claims['claim_amount'].str.replace('[^\\d.]','', regex=True)\n",
    "claims_clean['claim_amount'] = claims_clean['claim_amount'].astype(float)\n",
    "claims_clean['claim_amount'].head()"
   ]
  },
  {
   "cell_type": "code",
   "execution_count": 8,
   "id": "c794b540-f7a0-453d-851b-0a85cfe67a8a",
   "metadata": {
    "executionCancelledAt": null,
    "executionTime": 48,
    "lastExecutedAt": 1686923820649,
    "lastScheduledRunId": null,
    "lastSuccessfullyExecutedCode": "claims_clean.describe()"
   },
   "outputs": [
    {
     "data": {
      "application/com.datacamp.data-table.v1+json": {
       "table": {
        "data": [
         {
          "amount_paid": 1964,
          "claim_amount": 2000,
          "claim_id": 2000,
          "index": "count",
          "individuals_on_claim": 2000,
          "time_to_close": 2000
         },
         {
          "amount_paid": 21541.9751832994,
          "claim_amount": 27156.965235,
          "claim_id": 1000.5,
          "index": "mean",
          "individuals_on_claim": 8.0495,
          "time_to_close": 185.568
         },
         {
          "amount_paid": 12530.1565093075,
          "claim_amount": 16195.7830985467,
          "claim_id": 577.4945887192,
          "index": "std",
          "individuals_on_claim": 4.0873466884,
          "time_to_close": 49.163389788
         },
         {
          "amount_paid": 1516.72,
          "claim_amount": 1637.94,
          "claim_id": 1,
          "index": "min",
          "individuals_on_claim": 1,
          "time_to_close": 76
         },
         {
          "amount_paid": 10995.95,
          "claim_amount": 13758.9525,
          "claim_id": 500.75,
          "index": "25%",
          "individuals_on_claim": 4,
          "time_to_close": 158
         },
         {
          "amount_paid": 20105.7,
          "claim_amount": 24821.085,
          "claim_id": 1000.5,
          "index": "50%",
          "individuals_on_claim": 8,
          "time_to_close": 179
         },
         {
          "amount_paid": 30709.35,
          "claim_amount": 38581.35,
          "claim_id": 1500.25,
          "index": "75%",
          "individuals_on_claim": 12,
          "time_to_close": 204
         },
         {
          "amount_paid": 52498.75,
          "claim_amount": 76106.8,
          "claim_id": 2000,
          "index": "max",
          "individuals_on_claim": 15,
          "time_to_close": 518
         }
        ],
        "schema": {
         "fields": [
          {
           "name": "index",
           "type": "string"
          },
          {
           "name": "claim_id",
           "type": "number"
          },
          {
           "name": "time_to_close",
           "type": "number"
          },
          {
           "name": "claim_amount",
           "type": "number"
          },
          {
           "name": "amount_paid",
           "type": "number"
          },
          {
           "name": "individuals_on_claim",
           "type": "number"
          }
         ],
         "pandas_version": "1.4.0",
         "primaryKey": [
          "index"
         ]
        }
       },
       "total_rows": 8,
       "truncation_type": null
      },
      "text/html": [
       "<div>\n",
       "<style scoped>\n",
       "    .dataframe tbody tr th:only-of-type {\n",
       "        vertical-align: middle;\n",
       "    }\n",
       "\n",
       "    .dataframe tbody tr th {\n",
       "        vertical-align: top;\n",
       "    }\n",
       "\n",
       "    .dataframe thead th {\n",
       "        text-align: right;\n",
       "    }\n",
       "</style>\n",
       "<table border=\"1\" class=\"dataframe\">\n",
       "  <thead>\n",
       "    <tr style=\"text-align: right;\">\n",
       "      <th></th>\n",
       "      <th>claim_id</th>\n",
       "      <th>time_to_close</th>\n",
       "      <th>claim_amount</th>\n",
       "      <th>amount_paid</th>\n",
       "      <th>individuals_on_claim</th>\n",
       "    </tr>\n",
       "  </thead>\n",
       "  <tbody>\n",
       "    <tr>\n",
       "      <th>count</th>\n",
       "      <td>2000.000000</td>\n",
       "      <td>2000.00000</td>\n",
       "      <td>2000.000000</td>\n",
       "      <td>1964.000000</td>\n",
       "      <td>2000.000000</td>\n",
       "    </tr>\n",
       "    <tr>\n",
       "      <th>mean</th>\n",
       "      <td>1000.500000</td>\n",
       "      <td>185.56800</td>\n",
       "      <td>27156.965235</td>\n",
       "      <td>21541.975183</td>\n",
       "      <td>8.049500</td>\n",
       "    </tr>\n",
       "    <tr>\n",
       "      <th>std</th>\n",
       "      <td>577.494589</td>\n",
       "      <td>49.16339</td>\n",
       "      <td>16195.783099</td>\n",
       "      <td>12530.156509</td>\n",
       "      <td>4.087347</td>\n",
       "    </tr>\n",
       "    <tr>\n",
       "      <th>min</th>\n",
       "      <td>1.000000</td>\n",
       "      <td>76.00000</td>\n",
       "      <td>1637.940000</td>\n",
       "      <td>1516.720000</td>\n",
       "      <td>1.000000</td>\n",
       "    </tr>\n",
       "    <tr>\n",
       "      <th>25%</th>\n",
       "      <td>500.750000</td>\n",
       "      <td>158.00000</td>\n",
       "      <td>13758.952500</td>\n",
       "      <td>10995.950000</td>\n",
       "      <td>4.000000</td>\n",
       "    </tr>\n",
       "    <tr>\n",
       "      <th>50%</th>\n",
       "      <td>1000.500000</td>\n",
       "      <td>179.00000</td>\n",
       "      <td>24821.085000</td>\n",
       "      <td>20105.700000</td>\n",
       "      <td>8.000000</td>\n",
       "    </tr>\n",
       "    <tr>\n",
       "      <th>75%</th>\n",
       "      <td>1500.250000</td>\n",
       "      <td>204.00000</td>\n",
       "      <td>38581.350000</td>\n",
       "      <td>30709.350000</td>\n",
       "      <td>12.000000</td>\n",
       "    </tr>\n",
       "    <tr>\n",
       "      <th>max</th>\n",
       "      <td>2000.000000</td>\n",
       "      <td>518.00000</td>\n",
       "      <td>76106.800000</td>\n",
       "      <td>52498.750000</td>\n",
       "      <td>15.000000</td>\n",
       "    </tr>\n",
       "  </tbody>\n",
       "</table>\n",
       "</div>"
      ],
      "text/plain": [
       "          claim_id  time_to_close  ...   amount_paid  individuals_on_claim\n",
       "count  2000.000000     2000.00000  ...   1964.000000           2000.000000\n",
       "mean   1000.500000      185.56800  ...  21541.975183              8.049500\n",
       "std     577.494589       49.16339  ...  12530.156509              4.087347\n",
       "min       1.000000       76.00000  ...   1516.720000              1.000000\n",
       "25%     500.750000      158.00000  ...  10995.950000              4.000000\n",
       "50%    1000.500000      179.00000  ...  20105.700000              8.000000\n",
       "75%    1500.250000      204.00000  ...  30709.350000             12.000000\n",
       "max    2000.000000      518.00000  ...  52498.750000             15.000000\n",
       "\n",
       "[8 rows x 5 columns]"
      ]
     },
     "execution_count": 8,
     "metadata": {},
     "output_type": "execute_result"
    }
   ],
   "source": [
    "claims_clean.describe()"
   ]
  },
  {
   "cell_type": "code",
   "execution_count": 9,
   "id": "262e93de-89e2-4f1c-aedb-0cb52ffa39b7",
   "metadata": {
    "executionCancelledAt": null,
    "executionTime": 48,
    "lastExecutedAt": 1686923820697,
    "lastScheduledRunId": null,
    "lastSuccessfullyExecutedCode": "# filling in missing amount_paid\nclaims_clean['amount_paid'] = claims['amount_paid'].fillna(claims['amount_paid'].median())\n\n# filling in missing linked_cases\nclaims_clean['linked_cases'] = claims['linked_cases'].fillna(False)\n\n# replacing VEGETABLES to vegetable and Meat to meat in causes\nreplacements = {'VEGETABLES':'vegetable', ' Meat':'meat'}\nclaims_clean['cause'] = claims['cause'].replace(replacements)\n\nclaims_clean.info()"
   },
   "outputs": [
    {
     "name": "stdout",
     "output_type": "stream",
     "text": [
      "<class 'pandas.core.frame.DataFrame'>\n",
      "RangeIndex: 2000 entries, 0 to 1999\n",
      "Data columns (total 8 columns):\n",
      " #   Column                Non-Null Count  Dtype  \n",
      "---  ------                --------------  -----  \n",
      " 0   claim_id              2000 non-null   int64  \n",
      " 1   time_to_close         2000 non-null   int64  \n",
      " 2   claim_amount          2000 non-null   float64\n",
      " 3   amount_paid           2000 non-null   float64\n",
      " 4   location              2000 non-null   object \n",
      " 5   individuals_on_claim  2000 non-null   int64  \n",
      " 6   linked_cases          2000 non-null   bool   \n",
      " 7   cause                 2000 non-null   object \n",
      "dtypes: bool(1), float64(2), int64(3), object(2)\n",
      "memory usage: 111.5+ KB\n"
     ]
    }
   ],
   "source": [
    "# filling in missing amount_paid\n",
    "claims_clean['amount_paid'] = claims['amount_paid'].fillna(claims['amount_paid'].median())\n",
    "\n",
    "# filling in missing linked_cases\n",
    "claims_clean['linked_cases'] = claims['linked_cases'].fillna(False)\n",
    "\n",
    "# replacing VEGETABLES to vegetable and Meat to meat in causes\n",
    "replacements = {'VEGETABLES':'vegetable', ' Meat':'meat'}\n",
    "claims_clean['cause'] = claims['cause'].replace(replacements)\n",
    "\n",
    "claims_clean.info()"
   ]
  },
  {
   "cell_type": "code",
   "execution_count": 10,
   "id": "402929a7-d923-471e-b62b-c3727689f643",
   "metadata": {
    "executionCancelledAt": null,
    "executionTime": 48,
    "lastExecutedAt": 1686923820745,
    "lastScheduledRunId": null,
    "lastSuccessfullyExecutedCode": "# checking number unique values in each column\nfor column in claims_clean:\n    print(column, ':', claims_clean[column].nunique())"
   },
   "outputs": [
    {
     "name": "stdout",
     "output_type": "stream",
     "text": [
      "claim_id : 2000\n",
      "time_to_close : 256\n",
      "claim_amount : 2000\n",
      "amount_paid : 1964\n",
      "location : 4\n",
      "individuals_on_claim : 15\n",
      "linked_cases : 2\n",
      "cause : 3\n"
     ]
    }
   ],
   "source": [
    "# checking number unique values in each column\n",
    "for column in claims_clean:\n",
    "    print(column, ':', claims_clean[column].nunique())"
   ]
  },
  {
   "cell_type": "code",
   "execution_count": 11,
   "id": "3f032f6b-654e-4640-8533-f768bd6af966",
   "metadata": {
    "executionCancelledAt": null,
    "executionTime": 48,
    "lastExecutedAt": 1686923820793,
    "lastScheduledRunId": null,
    "lastSuccessfullyExecutedCode": "# checking the unique values itself in some of the columns\nfor column in claims_clean:\n  if column not in exclude_columns:\n    print(column, ':', claims_clean[column].unique())"
   },
   "outputs": [
    {
     "name": "stdout",
     "output_type": "stream",
     "text": [
      "location : ['RECIFE' 'FORTALEZA' 'SAO LUIS' 'NATAL']\n",
      "linked_cases : [False  True]\n",
      "cause : ['unknown' 'meat' 'vegetable']\n"
     ]
    }
   ],
   "source": [
    "# checking the unique values itself in some of the columns\n",
    "for column in claims_clean:\n",
    "  if column not in exclude_columns:\n",
    "    print(column, ':', claims_clean[column].unique())"
   ]
  },
  {
   "cell_type": "markdown",
   "id": "714a7083-7a43-4b0b-8ed4-2675efc87691",
   "metadata": {
    "tags": []
   },
   "source": [
    "### Before cleaning:\n",
    "The original data contained **2000 rows** and **8 columns**. \n",
    "\n",
    "The following describes each column in their original form (before cleaning):\n",
    "* **claim_id**: has 2000 unique values as expected. This means there are no duplicates nor missing values. This column is perfectly fine.\n",
    "* **time_to_close**: has no missing-values. All values are positive integers with a min of 76 and a max of 518. This column is perfectly fine.\n",
    "* **claim_amount**: has no missing values. However, it was imported as an object due to the currency symbol. Will convert this column to decimals in the data cleaning step to ease calculations later.\n",
    "* **amount_paid**: has 1964 non-missing values. The missing values will be replaced with the median *amount_paid* in the data cleaning step. Having said that, the non-missing values are all positive decimals - which is within expectations.\n",
    "* **location**: has no missing values and has 4 unique values. Upon inspection the 4 unique values were 'RECIFE', 'FORTALEZA', 'SAO LUIS', 'NATAL'. These locations are what we expect. This column is perfectly fine. \n",
    "* **linked_cases**: has 1974 non-missing value and 3 unique values. Upon inspection the 3 unique values were True, False, NaN. The True and False were within expectations; the missing values will be replaced with False in the data cleaning step.\n",
    "* **cause**: has 5 unique values - which is not supposed to be the case. Upon inspection, discovered the values in this column are 'unknown' 'meat' 'vegetable' ' Meat' 'VEGETABLES'. Will convert ' Meat' into 'meat' and 'VEGETABLES' into 'vegetable' during the data cleaning step."
   ]
  },
  {
   "cell_type": "markdown",
   "id": "3d141f9b-c623-474f-99c9-ddd430d4bf74",
   "metadata": {},
   "source": [
    "### After cleaning:\n",
    "The cleaned data has **2000 rows** and **8 columns**. No rows were removed.\n",
    "\n",
    "The following describes each column of the cleaned data:\n",
    "* **claim_id**: has 2000 unique values as expected. This means there are no duplicates nor missing values. This column is perfectly fine and is untouched.\n",
    "* **time_to_close**: has no missing-values. All values are positive integers with a min of 76 and a max of 518. This column is perfectly fine and is untouched.\n",
    "* **claim_amount**: converted into decimal. Has no missing values. All values are positive decimals as expected.\n",
    "* **amount_paid**: The missing values have be replaced with the median *amount_paid*. Now has no missing values. All values are positive decimals as expected.\n",
    "* **location**: has no missing values and has 4 unique values. Upon inspection the 4 unique values were 'RECIFE', 'FORTALEZA', 'SAO LUIS', 'NATAL'. These locations are what we expect. This column is perfectly fine and is untouched.\n",
    "* **linked_cases**: missing values replaced with False. Now has no missing values. Only True/False in the column as expected.\n",
    "* **cause**: converted ' Meat' into 'meat' and 'VEGETABLES' into 'vegetable'. No missing values. Now has 3 unique values. Values are now either 'unknown', 'meat', 'vegetable' as expected."
   ]
  },
  {
   "cell_type": "markdown",
   "id": "643d4c36-4183-4fbe-a263-6b9de60d29da",
   "metadata": {},
   "source": [
    "## Task 2"
   ]
  },
  {
   "cell_type": "code",
   "execution_count": 12,
   "id": "f39f7e2e-f402-441d-88c1-c806575232ae",
   "metadata": {
    "executionCancelledAt": null,
    "executionTime": 48,
    "lastExecutedAt": 1686923820841,
    "lastScheduledRunId": null,
    "lastSuccessfullyExecutedCode": "# finding the number of claims per location\nlocations = claims_clean.groupby('location')['claim_id'].count()\nprint(locations)"
   },
   "outputs": [
    {
     "name": "stdout",
     "output_type": "stream",
     "text": [
      "location\n",
      "FORTALEZA    311\n",
      "NATAL        287\n",
      "RECIFE       885\n",
      "SAO LUIS     517\n",
      "Name: claim_id, dtype: int64\n"
     ]
    }
   ],
   "source": [
    "# finding the number of claims per location\n",
    "locations = claims_clean.groupby('location')['claim_id'].count()\n",
    "print(locations)"
   ]
  },
  {
   "cell_type": "code",
   "execution_count": 13,
   "id": "8630d190-5456-4fd9-98af-64e604e0b177",
   "metadata": {
    "executionCancelledAt": null,
    "executionTime": 312,
    "lastExecutedAt": 1686923821153,
    "lastScheduledRunId": null,
    "lastSuccessfullyExecutedCode": "# plotting this\nlocations.plot(kind='bar')\n\nplt.xlabel('Location')\nplt.ylabel('No. of Claims')\nplt.title('No. of Claims by Location')\n\nplt.xticks(rotation=0)\n\n# add grid lines\nplt.grid(True, zorder=0)\n\n# forces the bar plot to be on top of the grid lines\nplt.gca().set_axisbelow(True)\n\nplt.savefig('output/figure_1.png', dpi='figure')\nplt.show()"
   },
   "outputs": [
    {
     "data": {
      "image/png": "[encoded data removed]",
      "text/plain": [
       "<Figure size 640x480 with 1 Axes>"
      ]
     },
     "metadata": {},
     "output_type": "display_data"
    }
   ],
   "source": [
    "# plotting this\n",
    "locations.plot(kind='bar')\n",
    "\n",
    "plt.xlabel('Location')\n",
    "plt.ylabel('No. of Claims')\n",
    "plt.title('No. of Claims by Location')\n",
    "\n",
    "plt.xticks(rotation=0)\n",
    "\n",
    "# add grid lines\n",
    "plt.grid(True, zorder=0)\n",
    "\n",
    "# forces the bar plot to be on top of the grid lines\n",
    "plt.gca().set_axisbelow(True)\n",
    "\n",
    "plt.savefig('output/figure_1.png', dpi='figure')\n",
    "plt.show()"
   ]
  },
  {
   "cell_type": "markdown",
   "id": "1d5ba38c-1b3a-4f9b-bf38-bb0a62dac346",
   "metadata": {},
   "source": [
    "### No. of claims by location.\n",
    "The legal team intends to reduce the time spent to close claims. As a start it's worthwhile to see how many claims each location processess.\n",
    "\n",
    "The bar plot above shows the number of claims at each location. Currently not all locations are processing the same number of claims. \n",
    "* The 'RECIFE' location closes the most claims with 885 claims. This is slightly more than 70% of 'SAO LUIS' at 2nd place.\n",
    "* 'SAO LUIS' has 517 claims.\n",
    "* 'NATAL' and 'FORTALEZA' are fairly close in number of claims, at 287 and 311 claims respectively.\n",
    "\n",
    "To reduce the time spent to close claims, it's worth to look into why 'RECIFE' is processing so many claims (i.e.  could be a large number of short duration claims), and if it's worth to evenly distribute the number of claims among all locations. \n"
   ]
  },
  {
   "cell_type": "markdown",
   "id": "ce5f6df2-fbf2-4c44-9209-9ee668876b53",
   "metadata": {},
   "source": [
    "## Task 3"
   ]
  },
  {
   "cell_type": "code",
   "execution_count": 14,
   "id": "b9f9dd26-c6b3-417e-a4a5-232ee7536fda",
   "metadata": {
    "executionCancelledAt": null,
    "executionTime": 48,
    "lastExecutedAt": 1686923821201,
    "lastScheduledRunId": null,
    "lastSuccessfullyExecutedCode": "# taking a look at time_to_close claims across the board\ntime_to_close = claims_clean['time_to_close']\ntime_to_close.head()"
   },
   "outputs": [
    {
     "data": {
      "text/plain": [
       "0    317\n",
       "1    195\n",
       "2    183\n",
       "3    186\n",
       "4    138\n",
       "Name: time_to_close, dtype: int64"
      ]
     },
     "execution_count": 14,
     "metadata": {},
     "output_type": "execute_result"
    }
   ],
   "source": [
    "# taking a look at time_to_close claims across the board\n",
    "time_to_close = claims_clean['time_to_close']\n",
    "time_to_close.head()"
   ]
  },
  {
   "cell_type": "code",
   "execution_count": 15,
   "id": "d5002e5d-6ab4-490e-9ebf-3b6bc3d438c6",
   "metadata": {
    "executionCancelledAt": null,
    "executionTime": 307,
    "lastExecutedAt": 1686923821508,
    "lastScheduledRunId": null,
    "lastSuccessfullyExecutedCode": "# plotting a histogram\nsns.histplot(time_to_close, kde=False, bins=20)\n\nplt.xlabel('Time to Close Claims (Days)')\nplt.ylabel('Count')\nplt.title('Distribution of Time to Close Claims')\n\n# add grid line\nplt.grid(True, zorder=0)\n\n# forces the plot to be above the grid line\nplt.gca().set_axisbelow(True)\n\nplt.savefig('output/figure_2.png', dpi='figure')\nplt.show()"
   },
   "outputs": [
    {
     "data": {
      "image/png": "[encoded data removed]",
      "text/plain": [
       "<Figure size 640x480 with 1 Axes>"
      ]
     },
     "metadata": {},
     "output_type": "display_data"
    }
   ],
   "source": [
    "# plotting a histogram\n",
    "sns.histplot(time_to_close, kde=False, bins=20)\n",
    "\n",
    "plt.xlabel('Time to Close Claims (Days)')\n",
    "plt.ylabel('Count')\n",
    "plt.title('Distribution of Time to Close Claims')\n",
    "\n",
    "# add grid line\n",
    "plt.grid(True, zorder=0)\n",
    "\n",
    "# forces the plot to be above the grid line\n",
    "plt.gca().set_axisbelow(True)\n",
    "\n",
    "plt.savefig('output/figure_2.png', dpi='figure')\n",
    "plt.show()"
   ]
  },
  {
   "cell_type": "code",
   "execution_count": 16,
   "id": "0703a58c-9d1a-4e4d-9e7a-8cfe490c3fe6",
   "metadata": {
    "executionCancelledAt": null,
    "executionTime": 288,
    "lastExecutedAt": 1686923821797,
    "lastScheduledRunId": null,
    "lastSuccessfullyExecutedCode": "# plotting a histogram with a trendline\nsns.histplot(time_to_close, kde=True, bins=20)\n\nplt.xlabel('Time to Close Claims (Days)')\nplt.ylabel('Count')\nplt.title('Distribution of Time to Close Claims')\n\n# add grid line\nplt.grid(True, zorder=0)\n\n# forces the plot to be above the grid line\nplt.gca().set_axisbelow(True)\n\nplt.savefig('output/figure_2.5.png', dpi='figure')\nplt.show()"
   },
   "outputs": [
    {
     "data": {
      "image/png": "[encoded data removed]",
      "text/plain": [
       "<Figure size 640x480 with 1 Axes>"
      ]
     },
     "metadata": {},
     "output_type": "display_data"
    }
   ],
   "source": [
    "# plotting a histogram with a trendline\n",
    "sns.histplot(time_to_close, kde=True, bins=20)\n",
    "\n",
    "plt.xlabel('Time to Close Claims (Days)')\n",
    "plt.ylabel('Count')\n",
    "plt.title('Distribution of Time to Close Claims')\n",
    "\n",
    "# add grid line\n",
    "plt.grid(True, zorder=0)\n",
    "\n",
    "# forces the plot to be above the grid line\n",
    "plt.gca().set_axisbelow(True)\n",
    "\n",
    "plt.savefig('output/figure_2.5.png', dpi='figure')\n",
    "plt.show()"
   ]
  },
  {
   "cell_type": "code",
   "execution_count": 17,
   "id": "563e85b9-168d-40fc-b4c5-a05d7e5cc5c9",
   "metadata": {
    "executionCancelledAt": null,
    "executionTime": 191,
    "lastExecutedAt": 1686923821988,
    "lastScheduledRunId": null,
    "lastSuccessfullyExecutedCode": "# let's see a box plot instead\nclaims_clean.boxplot(column='time_to_close')\n\nplt.ylabel('Time to Close Claims (Days)')\nplt.title('Distribution of Time to Close Claims')\n\nplt.savefig('output/figure_3.png', dpi='figure')\nplt.plot()"
   },
   "outputs": [
    {
     "data": {
      "text/plain": [
       "[]"
      ]
     },
     "execution_count": 17,
     "metadata": {},
     "output_type": "execute_result"
    },
    {
     "data": {
      "image/png": "[encoded data removed]",
      "text/plain": [
       "<Figure size 640x480 with 1 Axes>"
      ]
     },
     "metadata": {},
     "output_type": "display_data"
    }
   ],
   "source": [
    "# let's see a box plot instead\n",
    "claims_clean.boxplot(column='time_to_close')\n",
    "\n",
    "plt.ylabel('Time to Close Claims (Days)')\n",
    "plt.title('Distribution of Time to Close Claims')\n",
    "\n",
    "plt.savefig('output/figure_3.png', dpi='figure')\n",
    "plt.plot()"
   ]
  },
  {
   "cell_type": "markdown",
   "id": "8fcff247-db49-42c0-8710-51848aeb6347",
   "metadata": {},
   "source": [
    "### Distribution of time to close for all locations\n",
    "There are a few outliers in the time to close range of 350 to 518 days. The large majority of the days to close time are in the range of 158 days to 218 days. \n",
    "\n",
    "The histogram above shows the distribution.\n",
    "\n",
    "The histogram below it is the same, but includes a trendline. A large number of claims in the 158 to 218 days range contributes to the histogram going above the trendline in the middle ranges.\n",
    "\n",
    "Taking a look at the boxplot above it can be seen that the median time to close is 179 days. The average time to close is 185.57 days. Again, there is a large number of claims take between 158 days to 204 days to close. \n",
    "\n",
    "To reduce the overall time to close, it's a good idea find a method to reduce the processing time of claims that require between 158 days to 204 days to close, since a large number of claims require this amount of time to close. Reducing the time spent to close claims in this range will reduce the overall average time."
   ]
  },
  {
   "cell_type": "markdown",
   "id": "c5fbe3a0-d277-437c-a1a0-f1edf80684f7",
   "metadata": {},
   "source": [
    "## Task 4"
   ]
  },
  {
   "cell_type": "code",
   "execution_count": 18,
   "id": "d4cd7238-463f-4ea1-b65c-968749fe6a95",
   "metadata": {
    "executionCancelledAt": null,
    "executionTime": 244,
    "lastExecutedAt": 1686923822232,
    "lastScheduledRunId": null,
    "lastSuccessfullyExecutedCode": "# let's see a box plot instead\nclaims_clean.boxplot(column='time_to_close', by ='location')\n\nplt.xlabel('Location')\nplt.ylabel('Time to Close Claims (Days)')\nplt.title('Distribution of Time to Close Claims by Location')\n\nplt.savefig('output/figure_4.png', dpi='figure')\nplt.plot()"
   },
   "outputs": [
    {
     "data": {
      "text/plain": [
       "[]"
      ]
     },
     "execution_count": 18,
     "metadata": {},
     "output_type": "execute_result"
    },
    {
     "data": {
      "image/png": "[encoded data removed]",
      "text/plain": [
       "<Figure size 640x480 with 1 Axes>"
      ]
     },
     "metadata": {},
     "output_type": "display_data"
    }
   ],
   "source": [
    "# let's see a box plot instead\n",
    "claims_clean.boxplot(column='time_to_close', by ='location')\n",
    "\n",
    "plt.xlabel('Location')\n",
    "plt.ylabel('Time to Close Claims (Days)')\n",
    "plt.title('Distribution of Time to Close Claims by Location')\n",
    "\n",
    "plt.savefig('output/figure_4.png', dpi='figure')\n",
    "plt.plot()"
   ]
  },
  {
   "cell_type": "markdown",
   "id": "170dd2ea-340f-4ab4-94c8-fe077342e98e",
   "metadata": {},
   "source": [
    "### Distribution of time to close by location\n",
    "Taking a look at the boxplot above it can be seen that majority of claims take between 158 to 204 days to close for all 4 locations (i.e. their interquartile ranges are similar to each other). However, the range for 'RECIFE' is slightly tighter than the other 3. It is also worth noting their maximum and minimum are similar to each other too. \n",
    "\n",
    "This means that all 4 locations process a similar spread of claims that have similar durations to close (apart from the outliers).\n",
    "\n",
    "Taking a look again at the bar plot in Task 1, 'RECIFE' and 'SAO LUIS' process more claims than the other 2 locations, but with a similar spread. A recommendation for the legal team is to spread the number of claims evenly among all 4 locations."
   ]
  },
  {
   "cell_type": "markdown",
   "id": "3de7eec2-1273-4548-9ac8-f65b0717e470",
   "metadata": {},
   "source": [
    "### Recommendation\n",
    "Combining the information from the bar plot in Task 1 and the boxplot in Task 4 there are some recommendations to reduce the overall time to close claims.\n",
    "\n",
    "The recommendations are as follows:\n",
    "* Reduce the number of claims 'RECIFE' has to process. Spread the excess claims among the other 3 locations.\n",
    "* Ensure all 4 locations have the same number (or if unfeasible at least similar number) of claims to process (i.e. share the workload).\n",
    "\n",
    "By ensuring there's an even spread of claims for all 4 locations, it's possible to decrease the overall average time to close claims - especially for the more common claims that take 158 to 204 days to close - which are the most frequently occuring claim type the legal team has to process."
   ]
  }
 ],
 "metadata": {
  "editor": "DataCamp Workspace",
  "kernelspec": {
   "display_name": "Python 3 (ipykernel)",
   "language": "python",
   "name": "python3"
  },
  "language_info": {
   "codemirror_mode": {
    "name": "ipython",
    "version": 3
   },
   "file_extension": ".py",
   "mimetype": "text/x-python",
   "name": "python",
   "nbconvert_exporter": "python",
   "pygments_lexer": "ipython3",
   "version": "3.11.3"
  }
 },
 "nbformat": 4,
 "nbformat_minor": 5
}
